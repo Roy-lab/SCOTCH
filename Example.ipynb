{
 "cells": [
  {
   "cell_type": "markdown",
   "id": "e3491a207718cc60",
   "metadata": {
    "collapsed": false,
    "jupyter": {
     "outputs_hidden": false
    }
   },
   "source": [
    "## SCOTCH Example Workflow\n",
    "\n",
    "This notebook is a tutorial for SCOTCH (*S*ingle *C*ell *O*rthogonal matrix *T*ri-factorzation for *C*lustering *H*igh-dimensional data). SCOTCH uses non-negative matrix tri-factorization to cluster cells and define gene sets which drive each cell clusters expression profile. "
   ]
  },
  {
   "cell_type": "code",
   "execution_count": 11,
   "id": "995dcb0eb7ed2c56",
   "metadata": {
    "ExecuteTime": {
     "end_time": "2024-11-06T15:42:21.974747Z",
     "start_time": "2024-11-06T15:42:21.853774Z"
    }
   },
   "outputs": [],
   "source": [
    "import SCOTCH\n",
    "import pandas as pd \n",
    "import numpy as np \n",
    "import anndata as ad\n",
    "import scanpy as sc\n",
    "import pooch\n",
    "import torch\n",
    "\n",
    "import matplotlib.pyplot as plt\n",
    "import matplotlib.gridspec as GridSpec"
   ]
  },
  {
   "cell_type": "markdown",
   "id": "2b7cf5a449ada71f",
   "metadata": {
    "collapsed": false,
    "jupyter": {
     "outputs_hidden": false
    }
   },
   "source": [
    "### Loading single cell data \n",
    "\n",
    "SCOTCH allows loading through three interfaces, plain text files, anndata objects, or pytorch pt. files. For this example we will work with the exampledata scat is used for the scverse and scanpy tutorials. The data that are using is the 2021 NeurIPS benchmarking dataset. The samples used in this data were measured with the 10X multiome gene expression and chromatin accessibility kit. We will focus on the filtered expression matrices. That data contains ~16,000 from two different donors and span 36,601 genes. \n",
    "\n",
    "For this tutorial we utilize the begging of the guide for scanpy which downloads the data into a standard adata object (adata). "
   ]
  },
  {
   "cell_type": "code",
   "execution_count": 2,
   "id": "6f206023ebfebe26",
   "metadata": {
    "collapsed": false,
    "jupyter": {
     "outputs_hidden": false
    }
   },
   "outputs": [],
   "source": [
    "EXAMPLE_DATA = pooch.create(\n",
    "    path=pooch.os_cache(\"scverse_tutorials\"),\n",
    "    base_url=\"doi:10.6084/m9.figshare.22716739.v1/\",\n",
    ")\n",
    "EXAMPLE_DATA.load_registry_from_doi()"
   ]
  },
  {
   "cell_type": "code",
   "execution_count": 3,
   "id": "87f98f1b-d625-45b8-85be-793c4dcd5e84",
   "metadata": {},
   "outputs": [
    {
     "name": "stderr",
     "output_type": "stream",
     "text": [
      "/mnt/dv/wid/projects5/Roy-singlecell/spencer_work/.conda/envs/Pytorch/lib/python3.8/site-packages/anndata/_core/anndata.py:1830: UserWarning: Variable names are not unique. To make them unique, call `.var_names_make_unique`.\n",
      "  utils.warn_names_duplicates(\"var\")\n"
     ]
    },
    {
     "name": "stdout",
     "output_type": "stream",
     "text": [
      "s1d1    8785\n",
      "s1d3    8340\n",
      "Name: sample, dtype: int64\n"
     ]
    },
    {
     "name": "stderr",
     "output_type": "stream",
     "text": [
      "/mnt/dv/wid/projects5/Roy-singlecell/spencer_work/.conda/envs/Pytorch/lib/python3.8/site-packages/anndata/_core/anndata.py:1830: UserWarning: Variable names are not unique. To make them unique, call `.var_names_make_unique`.\n",
      "  utils.warn_names_duplicates(\"var\")\n",
      "/mnt/dv/wid/projects5/Roy-singlecell/spencer_work/.conda/envs/Pytorch/lib/python3.8/site-packages/anndata/_core/anndata.py:1828: UserWarning: Observation names are not unique. To make them unique, call `.obs_names_make_unique`.\n",
      "  utils.warn_names_duplicates(\"obs\")\n"
     ]
    }
   ],
   "source": [
    "samples = {\n",
    "    \"s1d1\": \"s1d1_filtered_feature_bc_matrix.h5\",\n",
    "    \"s1d3\": \"s1d3_filtered_feature_bc_matrix.h5\",\n",
    "}\n",
    "adatas = {}\n",
    "\n",
    "for sample_id, filename in samples.items():\n",
    "    path = EXAMPLE_DATA.fetch(filename)\n",
    "    sample_adata = sc.read_10x_h5(path)\n",
    "    sample_adata.var_names_make_unique()\n",
    "    adatas[sample_id] = sample_adata\n",
    "\n",
    "adata = ad.concat(adatas, label=\"sample\")\n",
    "adata.obs_names_make_unique()\n",
    "print(adata.obs[\"sample\"].value_counts())"
   ]
  },
  {
   "cell_type": "markdown",
   "id": "cd3ceb5a-f86f-45d9-b4d8-4c93c862c187",
   "metadata": {},
   "source": [
    "### Initializing a SCOTCH object\n",
    "\n",
    "Now we can initialize SCOTCH. SCOTCH is a matrix tri factorization approach that estimates the data as multiplication of three matrices. \n",
    "\n",
    "$X \\approx U S V^{T}$ where $U$ is a near orthogonal matrix which is used to cluster the cell space, $V$ is a near orthogonal matrix which is used to cluster the gene space, and $S$ is relationsip matrix which relates gene and cell clusters. \n",
    "\n",
    "To start SCOTCH we need to initialize a SCOTCH object, and specify the number of cluster we want to use for the cell space (k1), and the number of cluster for the gene space (k2). We can also specify regularization parameters such as $\\lambda_u$ or $\\lambda_v$ which can be tuned to improve the orthgonality of the cell and gene clusters respectively. \n"
   ]
  },
  {
   "cell_type": "code",
   "execution_count": 4,
   "id": "11392d56-3e1f-485f-9bce-4ca48bd2b5b8",
   "metadata": {},
   "outputs": [],
   "source": [
    "scotch = SCOTCH.SCOTCH(k1 = 15, k2 = 30, max_l_u = 5000, max_l_v = 5000, term_tol = 1e-4, var_lambda= True, device = \"cuda:1\")\n",
    "scotch.addDataFromAData(adata)\n",
    "scotch.send_to_gpu()"
   ]
  },
  {
   "cell_type": "code",
   "execution_count": 5,
   "id": "6890eda4-d5ba-4be8-ad0b-e724e72189ed",
   "metadata": {},
   "outputs": [
    {
     "name": "stdout",
     "output_type": "stream",
     "text": [
      "Iter: 1\tIter Time: 28.438\tTotal Time: 28.438\tError: 9.670e+09\tRelative Delta Residual: 7.415e-01\n",
      "Iter: 2\tIter Time: 14.224\tTotal Time: 42.663\tError: 6.325e+09\tRelative Delta Residual: 3.459e-01\n",
      "Iter: 3\tIter Time: 14.227\tTotal Time: 56.889\tError: 5.651e+09\tRelative Delta Residual: 1.065e-01\n",
      "Iter: 4\tIter Time: 14.226\tTotal Time: 71.116\tError: 5.052e+09\tRelative Delta Residual: 1.060e-01\n",
      "Iter: 5\tIter Time: 14.227\tTotal Time: 85.343\tError: 4.845e+09\tRelative Delta Residual: 4.099e-02\n",
      "Iter: 6\tIter Time: 14.226\tTotal Time: 99.569\tError: 4.762e+09\tRelative Delta Residual: 1.697e-02\n",
      "Iter: 7\tIter Time: 14.225\tTotal Time: 113.795\tError: 4.722e+09\tRelative Delta Residual: 8.494e-03\n",
      "Iter: 8\tIter Time: 14.226\tTotal Time: 128.020\tError: 4.699e+09\tRelative Delta Residual: 4.928e-03\n",
      "Iter: 9\tIter Time: 14.226\tTotal Time: 142.246\tError: 4.684e+09\tRelative Delta Residual: 3.127e-03\n",
      "Iter: 10\tIter Time: 14.226\tTotal Time: 156.472\tError: 4.674e+09\tRelative Delta Residual: 2.150e-03\n",
      "Iter: 11\tIter Time: 14.226\tTotal Time: 170.698\tError: 4.667e+09\tRelative Delta Residual: 1.579e-03\n",
      "Iter: 12\tIter Time: 14.225\tTotal Time: 184.923\tError: 4.661e+09\tRelative Delta Residual: 1.219e-03\n",
      "Iter: 13\tIter Time: 14.225\tTotal Time: 199.148\tError: 4.656e+09\tRelative Delta Residual: 9.779e-04\n",
      "Iter: 14\tIter Time: 14.225\tTotal Time: 213.374\tError: 4.653e+09\tRelative Delta Residual: 8.155e-04\n",
      "Iter: 15\tIter Time: 14.225\tTotal Time: 227.599\tError: 4.649e+09\tRelative Delta Residual: 6.990e-04\n",
      "Iter: 16\tIter Time: 14.225\tTotal Time: 241.823\tError: 4.646e+09\tRelative Delta Residual: 6.117e-04\n",
      "Iter: 17\tIter Time: 14.226\tTotal Time: 256.049\tError: 4.644e+09\tRelative Delta Residual: 5.388e-04\n",
      "Iter: 18\tIter Time: 14.225\tTotal Time: 270.274\tError: 4.642e+09\tRelative Delta Residual: 4.753e-04\n",
      "Iter: 19\tIter Time: 14.226\tTotal Time: 284.499\tError: 4.640e+09\tRelative Delta Residual: 4.219e-04\n",
      "Iter: 20\tIter Time: 14.225\tTotal Time: 298.724\tError: 4.638e+09\tRelative Delta Residual: 3.766e-04\n",
      "Iter: 21\tIter Time: 14.225\tTotal Time: 312.949\tError: 4.636e+09\tRelative Delta Residual: 3.379e-04\n",
      "Iter: 22\tIter Time: 14.225\tTotal Time: 327.175\tError: 4.635e+09\tRelative Delta Residual: 2.976e-04\n",
      "Iter: 23\tIter Time: 14.225\tTotal Time: 341.400\tError: 4.634e+09\tRelative Delta Residual: 2.389e-04\n",
      "Iter: 24\tIter Time: 14.225\tTotal Time: 355.625\tError: 4.633e+09\tRelative Delta Residual: 2.217e-04\n",
      "Iter: 25\tIter Time: 14.225\tTotal Time: 369.851\tError: 4.632e+09\tRelative Delta Residual: 2.054e-04\n",
      "Iter: 26\tIter Time: 14.225\tTotal Time: 384.076\tError: 4.631e+09\tRelative Delta Residual: 1.919e-04\n",
      "Iter: 27\tIter Time: 14.225\tTotal Time: 398.301\tError: 4.630e+09\tRelative Delta Residual: 1.802e-04\n",
      "Iter: 28\tIter Time: 14.225\tTotal Time: 412.526\tError: 4.629e+09\tRelative Delta Residual: 1.706e-04\n",
      "Iter: 29\tIter Time: 14.226\tTotal Time: 426.752\tError: 4.629e+09\tRelative Delta Residual: 1.628e-04\n",
      "Iter: 30\tIter Time: 14.225\tTotal Time: 440.977\tError: 4.628e+09\tRelative Delta Residual: 1.571e-04\n",
      "Iter: 31\tIter Time: 14.225\tTotal Time: 455.202\tError: 4.627e+09\tRelative Delta Residual: 1.516e-04\n",
      "Iter: 32\tIter Time: 14.225\tTotal Time: 469.427\tError: 4.627e+09\tRelative Delta Residual: 1.472e-04\n",
      "Iter: 33\tIter Time: 14.226\tTotal Time: 483.653\tError: 4.626e+09\tRelative Delta Residual: 1.429e-04\n",
      "Iter: 34\tIter Time: 14.225\tTotal Time: 497.878\tError: 4.625e+09\tRelative Delta Residual: 1.390e-04\n",
      "Iter: 35\tIter Time: 14.225\tTotal Time: 512.103\tError: 4.625e+09\tRelative Delta Residual: 1.351e-04\n",
      "Iter: 36\tIter Time: 14.225\tTotal Time: 526.328\tError: 4.624e+09\tRelative Delta Residual: 1.319e-04\n",
      "Iter: 37\tIter Time: 14.225\tTotal Time: 540.553\tError: 4.623e+09\tRelative Delta Residual: 1.289e-04\n",
      "Iter: 38\tIter Time: 14.225\tTotal Time: 554.778\tError: 4.623e+09\tRelative Delta Residual: 1.264e-04\n",
      "Iter: 39\tIter Time: 14.225\tTotal Time: 569.003\tError: 4.622e+09\tRelative Delta Residual: 1.236e-04\n",
      "Iter: 40\tIter Time: 14.225\tTotal Time: 583.228\tError: 4.622e+09\tRelative Delta Residual: 1.211e-04\n",
      "Iter: 41\tIter Time: 14.225\tTotal Time: 597.453\tError: 4.621e+09\tRelative Delta Residual: 1.174e-04\n",
      "Iter: 42\tIter Time: 14.225\tTotal Time: 611.678\tError: 4.621e+09\tRelative Delta Residual: 1.112e-04\n",
      "Iter: 43\tIter Time: 14.225\tTotal Time: 625.903\tError: 4.620e+09\tRelative Delta Residual: 1.073e-04\n",
      "Iter: 44\tIter Time: 14.225\tTotal Time: 640.129\tError: 4.620e+09\tRelative Delta Residual: 1.034e-04\n",
      "Iter: 45\tIter Time: 14.225\tTotal Time: 654.354\tError: 4.619e+09\tRelative Delta Residual: 9.977e-05\n"
     ]
    }
   ],
   "source": [
    "scotch.fit()"
   ]
  },
  {
   "cell_type": "code",
   "execution_count": 6,
   "id": "73dea2bc-7951-48b7-8cc9-ddfe8765b9be",
   "metadata": {},
   "outputs": [],
   "source": [
    "scotch.send_to_cpu()\n",
    "adata = scotch.addScotchEmbeddingsToAnnData(adata)"
   ]
  },
  {
   "cell_type": "code",
   "execution_count": 55,
   "id": "523b3307-c743-4e0f-845e-f8ac806b76ad",
   "metadata": {},
   "outputs": [
    {
     "data": {
      "image/png": "[encoded data removed]",
      "text/plain": [
       "<Figure size 1600x600 with 4 Axes>"
      ]
     },
     "metadata": {},
     "output_type": "display_data"
    }
   ],
   "source": [
    "sorted_indices = sorted(range(scotch.U.size(0)), key=lambda i: scotch.U[i].tolist(), reverse=True)\n",
    "sort_U = scotch.U[sorted_indices]\n",
    "\n",
    "V = scotch.V.t()\n",
    "sorted_indices = sorted(range(V.size(0)), key=lambda i: V[i].tolist(), reverse=True)\n",
    "sort_V = V[sorted_indices]\n",
    "sort_V = sort_V.t()\n",
    "\n",
    "fig = plt.figure(figsize=(16,6))\n",
    "grids = GridSpec.GridSpec(2, 2, wspace=0.1, width_ratios = (0.2, 0.8), height_ratios = (0.3, 0.7))\n",
    "\n",
    "ax1 = fig.add_subplot(grids[1, 0])\n",
    "ax1.imshow(sort_U.detach().numpy(), norm = \"linear\", aspect=\"auto\", cmap='viridis')\n",
    "#ax1.set_title(\"U Matrix\")\n",
    "\n",
    "# Visualize S matrix\n",
    "ax2 = fig.add_subplot(grids[0, 0])\n",
    "ax2.imshow(scotch.S.t().detach().numpy(), norm = \"linear\", aspect=\"auto\", cmap='viridis')\n",
    "#ax2.set_title(\"S Matrix\")\n",
    "\n",
    "# Visualize V matrix\n",
    "ax3 = fig.add_subplot(grids[0, 1])\n",
    "ax3.imshow(sort_V.detach().numpy(), norm = \"linear\", aspect=\"auto\", cmap='viridis')\n",
    "#ax3.set_title(\"V Matrix\")\n",
    "\n",
    "# Visualize X matrix\n",
    "ax4 = fig.add_subplot(grids[1, 1])\n",
    "ax4.imshow((sort_U @ scotch.S @ sort_V).detach().numpy() , norm = \"linear\", aspect=\"auto\", cmap='viridis')\n",
    "#ax4.set_title(\"X Matrix\")\n",
    "\n",
    "plt.show()"
   ]
  },
  {
   "cell_type": "code",
   "execution_count": null,
   "id": "7d771edd-4b5d-438b-974d-05a9cdb38029",
   "metadata": {},
   "outputs": [],
   "source": [
    "sc.pl.umap(\n",
    "    adata,\n",
    "    color=\"cell_clusters\",\n",
    "    # Setting a smaller point size to get prevent overlap\n",
    "    size=2,\n",
    ")"
   ]
  },
  {
   "cell_type": "code",
   "execution_count": 65,
   "id": "e17f476f-6e89-4407-b54d-3892cd8a071c",
   "metadata": {},
   "outputs": [
    {
     "data": {
      "text/plain": [
       "<matplotlib.image.AxesImage at 0x7f167bb317f0>"
      ]
     },
     "execution_count": 65,
     "metadata": {},
     "output_type": "execute_result"
    },
    {
     "data": {
      "image/png": "[encoded data removed]",
      "text/plain": [
       "<Figure size 640x480 with 1 Axes>"
      ]
     },
     "metadata": {},
     "output_type": "display_data"
    }
   ],
   "source": [
    "plt.imshow(sort_V.detach().numpy(), norm = \"linear\", aspect=\"auto\", cmap='viridis', vmin = 0, vmax = 0.05)"
   ]
  },
  {
   "cell_type": "code",
   "execution_count": 56,
   "id": "c2eefc73-cbc4-4809-8ec9-9094e2387955",
   "metadata": {},
   "outputs": [
    {
     "data": {
      "text/plain": [
       "tensor([[1.3823e-01, 1.6932e-02, 0.0000e+00,  ..., 0.0000e+00, 6.3107e-03,\n",
       "         0.0000e+00],\n",
       "        [5.8391e-02, 7.4757e-03, 0.0000e+00,  ..., 0.0000e+00, 2.4773e-02,\n",
       "         0.0000e+00],\n",
       "        [5.5440e-02, 7.0851e-03, 0.0000e+00,  ..., 0.0000e+00, 1.9952e-02,\n",
       "         0.0000e+00],\n",
       "        ...,\n",
       "        [0.0000e+00, 0.0000e+00, 0.0000e+00,  ..., 0.0000e+00, 1.6997e-04,\n",
       "         0.0000e+00],\n",
       "        [0.0000e+00, 0.0000e+00, 0.0000e+00,  ..., 0.0000e+00, 1.2165e-04,\n",
       "         0.0000e+00],\n",
       "        [0.0000e+00, 0.0000e+00, 0.0000e+00,  ..., 0.0000e+00, 0.0000e+00,\n",
       "         0.0000e+00]])"
      ]
     },
     "execution_count": 56,
     "metadata": {},
     "output_type": "execute_result"
    }
   ],
   "source": [
    "sort_U"
   ]
  },
  {
   "cell_type": "code",
   "execution_count": 33,
   "id": "862a7fc9-337d-485f-874d-7fc96ab63487",
   "metadata": {},
   "outputs": [],
   "source": [
    "sort_U, _ = torch.sort(scotch.U, dim = 0)"
   ]
  },
  {
   "cell_type": "code",
   "execution_count": 54,
   "id": "fef5e4a5-32e1-4d88-b5ec-ef23444fef77",
   "metadata": {},
   "outputs": [
    {
     "data": {
      "text/plain": [
       "array([[1.3822724e-01, 1.6931845e-02, 0.0000000e+00, ..., 0.0000000e+00,\n",
       "        6.3107358e-03, 0.0000000e+00],\n",
       "       [5.8391023e-02, 7.4757403e-03, 0.0000000e+00, ..., 0.0000000e+00,\n",
       "        2.4773268e-02, 0.0000000e+00],\n",
       "       [5.5440336e-02, 7.0850751e-03, 0.0000000e+00, ..., 0.0000000e+00,\n",
       "        1.9952470e-02, 0.0000000e+00],\n",
       "       ...,\n",
       "       [0.0000000e+00, 0.0000000e+00, 0.0000000e+00, ..., 0.0000000e+00,\n",
       "        1.6997123e-04, 0.0000000e+00],\n",
       "       [0.0000000e+00, 0.0000000e+00, 0.0000000e+00, ..., 0.0000000e+00,\n",
       "        1.2164525e-04, 0.0000000e+00],\n",
       "       [0.0000000e+00, 0.0000000e+00, 0.0000000e+00, ..., 0.0000000e+00,\n",
       "        0.0000000e+00, 0.0000000e+00]], dtype=float32)"
      ]
     },
     "execution_count": 54,
     "metadata": {},
     "output_type": "execute_result"
    }
   ],
   "source": [
    "sort_U.detach().numpy()"
   ]
  },
  {
   "cell_type": "code",
   "execution_count": 44,
   "id": "60133fbd-1cc2-428b-8a97-e49d5a0551b3",
   "metadata": {},
   "outputs": [
    {
     "data": {
      "text/plain": [
       "array([[0.13822724, 0.36953995, 0.12310214, ..., 0.6733475 , 0.11960241,\n",
       "        0.18727489],\n",
       "       [0.05839102, 0.33568355, 0.07895909, ..., 0.35423285, 0.09178089,\n",
       "        0.1359217 ],\n",
       "       [0.05544034, 0.31068927, 0.07242534, ..., 0.21258454, 0.07766262,\n",
       "        0.11981838],\n",
       "       ...,\n",
       "       [0.        , 0.        , 0.        , ..., 0.        , 0.        ,\n",
       "        0.        ],\n",
       "       [0.        , 0.        , 0.        , ..., 0.        , 0.        ,\n",
       "        0.        ],\n",
       "       [0.        , 0.        , 0.        , ..., 0.        , 0.        ,\n",
       "        0.        ]], dtype=float32)"
      ]
     },
     "execution_count": 44,
     "metadata": {},
     "output_type": "execute_result"
    }
   ],
   "source": [
    "ç"
   ]
  },
  {
   "cell_type": "code",
   "execution_count": 45,
   "id": "702076b9-d5f5-45f8-8484-e4a3f93fbce2",
   "metadata": {},
   "outputs": [],
   "source": [
    "matrix = torch.tensor([[5, 3, 1],\n",
    "                       [2, 9, 4],\n",
    "                       [7, 6, 8]])\n"
   ]
  },
  {
   "cell_type": "code",
   "execution_count": 47,
   "id": "67a9788b-3fbb-4634-b35b-70a3c8d081e7",
   "metadata": {},
   "outputs": [
    {
     "data": {
      "text/plain": [
       "torch.return_types.sort(\n",
       "values=tensor([[2, 3, 1],\n",
       "        [5, 6, 4],\n",
       "        [7, 9, 8]]),\n",
       "indices=tensor([[1, 0, 0],\n",
       "        [0, 2, 1],\n",
       "        [2, 1, 2]]))"
      ]
     },
     "execution_count": 47,
     "metadata": {},
     "output_type": "execute_result"
    }
   ],
   "source": [
    "torch.sort(matrix, dim = 0)"
   ]
  },
  {
   "cell_type": "code",
   "execution_count": 48,
   "id": "f14f6ea0-8ab3-48f7-8837-2cdaaaed092d",
   "metadata": {},
   "outputs": [],
   "source": [
    "sorted_indices = sorted(range(matrix.size(0)), key=lambda i: matrix[i].tolist(), reverse=True)\n",
    "\n",
    "# Step 2: Reorder the original matrix rows by these sorted indices\n",
    "sorted_matrix = matrix[sorted_indices]"
   ]
  },
  {
   "cell_type": "code",
   "execution_count": 49,
   "id": "9d301cb8-ba61-431d-a07f-686f9d43d07f",
   "metadata": {},
   "outputs": [
    {
     "data": {
      "text/plain": [
       "tensor([[7, 6, 8],\n",
       "        [5, 3, 1],\n",
       "        [2, 9, 4]])"
      ]
     },
     "execution_count": 49,
     "metadata": {},
     "output_type": "execute_result"
    }
   ],
   "source": [
    "sorted_matrix"
   ]
  },
  {
   "cell_type": "code",
   "execution_count": null,
   "id": "39a7438b-0b49-4430-a23e-744615f3e411",
   "metadata": {},
   "outputs": [],
   "source": []
  }
 ],
 "metadata": {
  "kernelspec": {
   "display_name": "Pytorch",
   "language": "python",
   "name": "pytorch"
  },
  "language_info": {
   "codemirror_mode": {
    "name": "ipython",
    "version": 3
   },
   "file_extension": ".py",
   "mimetype": "text/x-python",
   "name": "python",
   "nbconvert_exporter": "python",
   "pygments_lexer": "ipython3",
   "version": "3.8.13"
  }
 },
 "nbformat": 4,
 "nbformat_minor": 5
}
